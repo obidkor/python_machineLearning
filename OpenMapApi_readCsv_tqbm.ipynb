{
 "cells": [
  {
   "cell_type": "code",
   "execution_count": 2,
   "metadata": {},
   "outputs": [
    {
     "name": "stdout",
     "output_type": "stream",
     "text": [
      "Requirement already satisfied: requests in c:\\users\\wow\\anaconda3\\lib\\site-packages (2.21.0)\n",
      "Requirement already satisfied: idna<2.9,>=2.5 in c:\\users\\wow\\anaconda3\\lib\\site-packages (from requests) (2.8)\n",
      "Requirement already satisfied: urllib3<1.25,>=1.21.1 in c:\\users\\wow\\anaconda3\\lib\\site-packages (from requests) (1.24.1)\n",
      "Requirement already satisfied: certifi>=2017.4.17 in c:\\users\\wow\\anaconda3\\lib\\site-packages (from requests) (2019.3.9)\n",
      "Requirement already satisfied: chardet<3.1.0,>=3.0.2 in c:\\users\\wow\\anaconda3\\lib\\site-packages (from requests) (3.0.4)\n",
      "Note: you may need to restart the kernel to use updated packages.\n"
     ]
    }
   ],
   "source": [
    "pip install requests"
   ]
  },
  {
   "cell_type": "code",
   "execution_count": 7,
   "metadata": {},
   "outputs": [],
   "source": [
    "import requests\n",
    "from functools import lru_cache\n",
    "from time import sleep"
   ]
  },
  {
   "cell_type": "code",
   "execution_count": 8,
   "metadata": {},
   "outputs": [],
   "source": [
    "base_url = 'https://nominatim.openstreetmap.org/search?'"
   ]
  },
  {
   "cell_type": "code",
   "execution_count": 9,
   "metadata": {},
   "outputs": [],
   "source": [
    "@lru_cache(maxsize=2000) \n",
    "def nominatim_geocode(address, format='json', limit=1, **kwargs):\n",
    "\n",
    "    params = {\"q\": address, \"format\": format, \"limit\":\n",
    "              limit, **kwargs} \n",
    "    response = requests.get(base_url, params=params) \n",
    "    response.raise_for_status() \n",
    "    \n",
    "    sleep(1)\n",
    "    return response.json()"
   ]
  },
  {
   "cell_type": "code",
   "execution_count": 38,
   "metadata": {},
   "outputs": [],
   "source": [
    "seoul=nominatim_geocode('Seoul')[0]\n"
   ]
  },
  {
   "cell_type": "code",
   "execution_count": 47,
   "metadata": {},
   "outputs": [
    {
     "data": {
      "text/html": [
       "<div style=\"width:100%;\"><div style=\"position:relative;width:100%;height:0;padding-bottom:60%;\"><iframe src=\"data:text/html;charset=utf-8;base64,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\" style=\"position:absolute;width:100%;height:100%;left:0;top:0;border:none !important;\" allowfullscreen webkitallowfullscreen mozallowfullscreen></iframe></div></div>"
      ],
      "text/plain": [
       "<folium.folium.Map at 0x2aaf90540f0>"
      ]
     },
     "execution_count": 47,
     "metadata": {},
     "output_type": "execute_result"
    }
   ],
   "source": [
    "import folium\n",
    "map = folium.Map(location=[seoul[\"lat\"], seoul[\"lon\"]])\n",
    "folium.Marker(location=[seoul[\"lat\"], seoul[\"lon\"]],popup='Seoul').add_to(map)\n",
    "map"
   ]
  },
  {
   "cell_type": "code",
   "execution_count": 50,
   "metadata": {},
   "outputs": [],
   "source": [
    "from csv import DictReader,DictWriter\n",
    "path = 'C:\\\\Users\\\\wow\\\\Desktop'\n",
    "def read_csv(path):\n",
    "    with open(path,'r') as f:\n",
    "        return list(DictReader(f))\n",
    "def write_csv(data, path,mode='w'):\n",
    "    if mode not in 'wa':\n",
    "        raise ValueError(\"mode should be either 'w' or 'a'\")\n",
    "    with open(path, mode, encoding='UTF-8', newline='') as f:\n",
    "        writer = DictWriter(f,fieldnames=data[0].keys())\n",
    "        if mode =='w':\n",
    "            writer.writeheader()\n",
    "            \n",
    "        for row in data:\n",
    "            writer.writerow(row)"
   ]
  },
  {
   "cell_type": "code",
   "execution_count": null,
   "metadata": {},
   "outputs": [],
   "source": []
  },
  {
   "cell_type": "code",
   "execution_count": 51,
   "metadata": {},
   "outputs": [],
   "source": [
    "from tqdm import tqdm\n",
    "def geocode_bulk(data, column='address', verbose=False):\n",
    "    result, errors = [], []\n",
    "    for row in tqdm(data):\n",
    "        try:\n",
    "            search = nominatim_geocode(row[column],limit=1)\n",
    "            if len(search)==0:\n",
    "                result.append(row)\n",
    "                if verbose:\n",
    "                    print(f\"Cannot find anything for{row[colloum]}\")\n",
    "            else:\n",
    "                info = search[0]\n",
    "                info.update(row)\n",
    "                result.append(info)\n",
    "        except Exception as e:\n",
    "            if verbose:\n",
    "                print(e)\n",
    "            row['errors'] = e\n",
    "            errors.append(row)\n",
    "    if len(errors) > 0 and verbose:\n",
    "        print(f'{len(errors)}/{len(data)} rows failed')\n",
    "    return result, errors"
   ]
  },
  {
   "cell_type": "code",
   "execution_count": 53,
   "metadata": {
    "scrolled": true
   },
   "outputs": [
    {
     "name": "stderr",
     "output_type": "stream",
     "text": [
      "100%|██████████████████████████████████████████████████████████████████████████████████████████| 10/10 [00:00<?, ?it/s]\n"
     ]
    },
    {
     "data": {
      "text/plain": [
       "[{'place_id': 199009365,\n",
       "  'licence': 'Data © OpenStreetMap contributors, ODbL 1.0. https://osm.org/copyright',\n",
       "  'osm_type': 'relation',\n",
       "  'osm_id': 1543125,\n",
       "  'boundingbox': ['20.2145811', '35.8984245', '135.8536855', '154.205541'],\n",
       "  'lat': '35.6828387',\n",
       "  'lon': '139.7594549',\n",
       "  'display_name': '東京都, 関東地方, 日本 (Japan)',\n",
       "  'class': 'boundary',\n",
       "  'type': 'administrative',\n",
       "  'importance': 0.789852179415468,\n",
       "  'icon': 'https://nominatim.openstreetmap.org/images/mapicons/poi_boundary_administrative.p.20.png',\n",
       "  'name': 'Tokyo',\n",
       "  'population': '38.05',\n",
       "  'country': 'Japan'},\n",
       " {'place_id': 198969764,\n",
       "  'licence': 'Data © OpenStreetMap contributors, ODbL 1.0. https://osm.org/copyright',\n",
       "  'osm_type': 'relation',\n",
       "  'osm_id': 6362934,\n",
       "  'boundingbox': ['-6.3744575', '-4.9993635', '106.3146732', '106.973975'],\n",
       "  'lat': '-6.1753942',\n",
       "  'lon': '106.827183',\n",
       "  'display_name': 'JKT, Indonesia',\n",
       "  'class': 'place',\n",
       "  'type': 'city',\n",
       "  'importance': 0.657011749371283,\n",
       "  'icon': 'https://nominatim.openstreetmap.org/images/mapicons/poi_place_city.p.20.png',\n",
       "  'name': 'Jakarta',\n",
       "  'population': '32.27',\n",
       "  'country': 'Indonesia'},\n",
       " {'place_id': 277314358,\n",
       "  'licence': 'Data © OpenStreetMap contributors, ODbL 1.0. https://osm.org/copyright',\n",
       "  'osm_type': 'node',\n",
       "  'osm_id': 2702400314,\n",
       "  'boundingbox': ['28.4917178', '28.8117178', '77.0619388', '77.3819388'],\n",
       "  'lat': '28.6517178',\n",
       "  'lon': '77.2219388',\n",
       "  'display_name': 'Delhi, Central Delhi, Delhi, 110006, India',\n",
       "  'class': 'place',\n",
       "  'type': 'city',\n",
       "  'importance': 0.798841424072022,\n",
       "  'icon': 'https://nominatim.openstreetmap.org/images/mapicons/poi_place_city.p.20.png',\n",
       "  'name': 'Delhi',\n",
       "  'population': '27.28',\n",
       "  'country': 'India'},\n",
       " {'place_id': 198983285,\n",
       "  'licence': 'Data © OpenStreetMap contributors, ODbL 1.0. https://osm.org/copyright',\n",
       "  'osm_type': 'relation',\n",
       "  'osm_id': 6497589,\n",
       "  'boundingbox': ['14.5569999', '14.6390027', '120.9416919', '121.0261672'],\n",
       "  'lat': '14.5906216',\n",
       "  'lon': '120.9799696',\n",
       "  'display_name': 'Manila, Fifth District, Manila, Metro Manila, Philippines',\n",
       "  'class': 'place',\n",
       "  'type': 'city',\n",
       "  'importance': 0.775554603677903,\n",
       "  'icon': 'https://nominatim.openstreetmap.org/images/mapicons/poi_place_city.p.20.png',\n",
       "  'name': 'Manila',\n",
       "  'population': '24.65',\n",
       "  'country': 'Philipines'},\n",
       " {'place_id': 198348048,\n",
       "  'licence': 'Data © OpenStreetMap contributors, ODbL 1.0. https://osm.org/copyright',\n",
       "  'osm_type': 'relation',\n",
       "  'osm_id': 2297418,\n",
       "  'boundingbox': ['37.4285424', '37.7013911', '126.7644328', '127.1832695'],\n",
       "  'lat': '37.5666791',\n",
       "  'lon': '126.9782914',\n",
       "  'display_name': '서울, 대한민국',\n",
       "  'class': 'place',\n",
       "  'type': 'city',\n",
       "  'importance': 0.71942212574176,\n",
       "  'icon': 'https://nominatim.openstreetmap.org/images/mapicons/poi_place_city.p.20.png',\n",
       "  'name': 'Seoul',\n",
       "  'population': '24.21',\n",
       "  'country': 'South Korea'},\n",
       " {'place_id': 7346625,\n",
       "  'licence': 'Data © OpenStreetMap contributors, ODbL 1.0. https://osm.org/copyright',\n",
       "  'osm_type': 'node',\n",
       "  'osm_id': 778910398,\n",
       "  'boundingbox': ['31.0652985', '31.3852985', '121.3290497', '121.6490497'],\n",
       "  'lat': '31.2252985',\n",
       "  'lon': '121.4890497',\n",
       "  'display_name': '上海市, 黄浦区, 上海市, 200010, 中国',\n",
       "  'class': 'place',\n",
       "  'type': 'city',\n",
       "  'importance': 0.703757578797004,\n",
       "  'icon': 'https://nominatim.openstreetmap.org/images/mapicons/poi_place_city.p.20.png',\n",
       "  'name': 'Shanghai',\n",
       "  'population': '24.115',\n",
       "  'country': 'China'},\n",
       " {'place_id': 199169043,\n",
       "  'licence': 'Data © OpenStreetMap contributors, ODbL 1.0. https://osm.org/copyright',\n",
       "  'osm_type': 'relation',\n",
       "  'osm_id': 7888990,\n",
       "  'boundingbox': ['18.8939566', '19.2701767', '72.776333', '72.9797315'],\n",
       "  'lat': '18.9387711',\n",
       "  'lon': '72.8353355',\n",
       "  'display_name': 'Mumbai, Mumbai City, Maharashtra, India',\n",
       "  'class': 'place',\n",
       "  'type': 'city',\n",
       "  'importance': 0.780672325965691,\n",
       "  'icon': 'https://nominatim.openstreetmap.org/images/mapicons/poi_place_city.p.20.png',\n",
       "  'name': '8 Mumbai',\n",
       "  'population': '23.265',\n",
       "  'country': 'India'},\n",
       " {'place_id': 198125788,\n",
       "  'licence': 'Data © OpenStreetMap contributors, ODbL 1.0. https://osm.org/copyright',\n",
       "  'osm_type': 'relation',\n",
       "  'osm_id': 175905,\n",
       "  'boundingbox': ['40.477399', '40.9161785', '-74.25909', '-73.7001809'],\n",
       "  'lat': '40.7127281',\n",
       "  'lon': '-74.0060152',\n",
       "  'display_name': 'NYC, New York, United States of America',\n",
       "  'class': 'place',\n",
       "  'type': 'city',\n",
       "  'importance': 0.9829281899909941,\n",
       "  'icon': 'https://nominatim.openstreetmap.org/images/mapicons/poi_place_city.p.20.png',\n",
       "  'name': 'New York City',\n",
       "  'population': '21.57',\n",
       "  'country': 'US'},\n",
       " {'place_id': 120209,\n",
       "  'licence': 'Data © OpenStreetMap contributors, ODbL 1.0. https://osm.org/copyright',\n",
       "  'osm_type': 'node',\n",
       "  'osm_id': 25248662,\n",
       "  'boundingbox': ['39.746217', '40.066217', '116.2312757', '116.5512757'],\n",
       "  'lat': '39.906217',\n",
       "  'lon': '116.3912757',\n",
       "  'display_name': '北京市, 东城区, 北京市, 100010, 中国',\n",
       "  'class': 'place',\n",
       "  'type': 'city',\n",
       "  'importance': 0.747907724419665,\n",
       "  'icon': 'https://nominatim.openstreetmap.org/images/mapicons/poi_place_city.p.20.png',\n",
       "  'name': 'Beijing',\n",
       "  'population': '21.25',\n",
       "  'country': 'China'},\n",
       " {'place_id': 198168142,\n",
       "  'licence': 'Data © OpenStreetMap contributors, ODbL 1.0. https://osm.org/copyright',\n",
       "  'osm_type': 'relation',\n",
       "  'osm_id': 298285,\n",
       "  'boundingbox': ['-24.0079003', '-23.3577551', '-46.8262906', '-46.3650898'],\n",
       "  'lat': '-23.5506507',\n",
       "  'lon': '-46.6333824',\n",
       "  'display_name': 'São Paulo, Região Imediata de São Paulo, RMSP, Região Intermediária de São Paulo, SP, Região Sudeste, Brasil',\n",
       "  'class': 'place',\n",
       "  'type': 'city',\n",
       "  'importance': 0.772315051617224,\n",
       "  'icon': 'https://nominatim.openstreetmap.org/images/mapicons/poi_place_city.p.20.png',\n",
       "  'name': 'Sao Paulo',\n",
       "  'population': '21.1',\n",
       "  'country': 'Brasi'}]"
      ]
     },
     "execution_count": 53,
     "metadata": {},
     "output_type": "execute_result"
    }
   ],
   "source": [
    "path_in = path + '\\\\cities.csv'\n",
    "path_out = path + '\\\\geocoded.csv'\n",
    "data = read_csv(path_in)\n",
    "result, errors = geocode_bulk(data, column='name', verbose=True)\n",
    "result\n",
    "#write_csv(result, path_out)"
   ]
  },
  {
   "cell_type": "code",
   "execution_count": null,
   "metadata": {},
   "outputs": [],
   "source": []
  },
  {
   "cell_type": "code",
   "execution_count": null,
   "metadata": {},
   "outputs": [],
   "source": []
  }
 ],
 "metadata": {
  "kernelspec": {
   "display_name": "Python 3",
   "language": "python",
   "name": "python3"
  },
  "language_info": {
   "codemirror_mode": {
    "name": "ipython",
    "version": 3
   },
   "file_extension": ".py",
   "mimetype": "text/x-python",
   "name": "python",
   "nbconvert_exporter": "python",
   "pygments_lexer": "ipython3",
   "version": "3.7.3"
  }
 },
 "nbformat": 4,
 "nbformat_minor": 2
}
