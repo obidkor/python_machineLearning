{
 "cells": [
  {
   "cell_type": "code",
   "execution_count": 33,
   "metadata": {},
   "outputs": [],
   "source": [
    "class Animal:\n",
    "    greeting = \"\"\n",
    "    def __init__(self, age, diet):\n",
    "        self.age = age\n",
    "        self.diet=diet\n",
    "    def __repr__(self):\n",
    "        return f\"Animal (age={self.age}, diet='{self.diet}')\"\n",
    "    def __radd__(self,other):\n",
    "        self.age = self.age*other\n",
    "        self.diet = self.diet*other\n",
    "    def __add__(self,other):\n",
    "        self.age = self.age + other.age"
   ]
  },
  {
   "cell_type": "code",
   "execution_count": 34,
   "metadata": {},
   "outputs": [],
   "source": [
    "A=Animal(10,'w')"
   ]
  },
  {
   "cell_type": "code",
   "execution_count": 35,
   "metadata": {},
   "outputs": [
    {
     "data": {
      "text/plain": [
       "10"
      ]
     },
     "execution_count": 35,
     "metadata": {},
     "output_type": "execute_result"
    }
   ],
   "source": [
    "A.age"
   ]
  },
  {
   "cell_type": "code",
   "execution_count": 36,
   "metadata": {},
   "outputs": [
    {
     "data": {
      "text/plain": [
       "Animal (age=10, diet='w')"
      ]
     },
     "execution_count": 36,
     "metadata": {},
     "output_type": "execute_result"
    }
   ],
   "source": [
    "A"
   ]
  },
  {
   "cell_type": "code",
   "execution_count": 37,
   "metadata": {},
   "outputs": [],
   "source": [
    "2+A"
   ]
  },
  {
   "cell_type": "code",
   "execution_count": 42,
   "metadata": {},
   "outputs": [],
   "source": [
    "A+A"
   ]
  },
  {
   "cell_type": "code",
   "execution_count": 43,
   "metadata": {},
   "outputs": [
    {
     "data": {
      "text/plain": [
       "320"
      ]
     },
     "execution_count": 43,
     "metadata": {},
     "output_type": "execute_result"
    }
   ],
   "source": [
    "A.age"
   ]
  },
  {
   "cell_type": "code",
   "execution_count": 57,
   "metadata": {},
   "outputs": [],
   "source": [
    "class Person:\n",
    "    def __init__(self,name,surname,age):\n",
    "        self.name = name\n",
    "        self.surname = surname\n",
    "        self.age=age\n",
    "    def __lt__(self,other):\n",
    "        return self.age < other.age\n",
    "    def __repr__(self):\n",
    "        return f\"name:{self.name}, age:{self.age}\""
   ]
  },
  {
   "cell_type": "code",
   "execution_count": 58,
   "metadata": {},
   "outputs": [],
   "source": [
    "data=[\n",
    "    {'name':\"Pippi1\", 'surname':'Longstocking1', 'age':11},\n",
    "    {'name':\"Pippi2\", 'surname':'Longstocking2', 'age':12}, \n",
    "    {'name':\"Pippi3\", 'surname':'Longstocking3', 'age':13}, \n",
    "]"
   ]
  },
  {
   "cell_type": "code",
   "execution_count": 59,
   "metadata": {},
   "outputs": [],
   "source": [
    " characters = [Person(**row) for row in data]"
   ]
  },
  {
   "cell_type": "code",
   "execution_count": 60,
   "metadata": {},
   "outputs": [
    {
     "data": {
      "text/plain": [
       "[name:Pippi1, age:11, name:Pippi2, age:12, name:Pippi3, age:13]"
      ]
     },
     "execution_count": 60,
     "metadata": {},
     "output_type": "execute_result"
    }
   ],
   "source": [
    "sorted(characters)"
   ]
  },
  {
   "cell_type": "code",
   "execution_count": 61,
   "metadata": {},
   "outputs": [],
   "source": [
    "class Fish:\n",
    "    weight=5\n",
    "    color = 'white'\n",
    "    def __init__(self,w):\n",
    "        self.weight = w\n",
    "class ClownFish(Fish):\n",
    "    color = 'red'\n"
   ]
  },
  {
   "cell_type": "code",
   "execution_count": 65,
   "metadata": {},
   "outputs": [],
   "source": [
    "c=ClownFish(15)"
   ]
  },
  {
   "cell_type": "code",
   "execution_count": 66,
   "metadata": {},
   "outputs": [
    {
     "data": {
      "text/plain": [
       "15"
      ]
     },
     "execution_count": 66,
     "metadata": {},
     "output_type": "execute_result"
    }
   ],
   "source": [
    "c.weight"
   ]
  },
  {
   "cell_type": "code",
   "execution_count": 67,
   "metadata": {},
   "outputs": [
    {
     "data": {
      "text/plain": [
       "'red'"
      ]
     },
     "execution_count": 67,
     "metadata": {},
     "output_type": "execute_result"
    }
   ],
   "source": [
    "c.color"
   ]
  },
  {
   "cell_type": "code",
   "execution_count": 190,
   "metadata": {},
   "outputs": [],
   "source": [
    "from functools import reduce\n",
    "class ComplexNum:\n",
    "    def __init__(self,real=0,imaginary=0):\n",
    "        self.real = real\n",
    "        self.imaginary = imaginary\n",
    "    def __repr__(self):\n",
    "        if(self.imaginary<0):\n",
    "            return f\"({self.real}{self.imaginary}J)\"\n",
    "        else:\n",
    "            return f\"({self.real}+{self.imaginary}J)\"\n",
    "    def __add__(self,other):\n",
    "        return ComplexNum(self.real+other.real,self.imaginary+other.imaginary)\n",
    "    def __sub__(self,other):\n",
    "        return ComplexNum(self.real-other.real,self.imaginary-other.imaginary)\n",
    "    def __mul__(self,other):\n",
    "        return ComplexNum(self.real*other.real-self.imaginary*other.imaginary,\n",
    "                          self.imaginary*other.real+self.real*other.imaginary)\n",
    "    def __truediv__(self,other):\n",
    "        if(ohter.real==0 and other.imaginary==0):\n",
    "            raise ValueError(\"0으로 못나눔\")\n",
    "        tmp = (ohter.real**2+other.imaginary**2)\n",
    "        return ComplexNum((self.real*other.real+self.imaginary*other.imaginary)/tmp,\n",
    "                         (-self.real*other.imaginary+self.imaginary*other.real)/tmp)\n",
    "    def __pow__(self,n):\n",
    "        return reduce(lambda x,y:x*y, [self for i in range(n)])"
   ]
  },
  {
   "cell_type": "code",
   "execution_count": 191,
   "metadata": {},
   "outputs": [],
   "source": [
    "a=ComplexNum(4,7)"
   ]
  },
  {
   "cell_type": "code",
   "execution_count": 192,
   "metadata": {},
   "outputs": [],
   "source": [
    "b=ComplexNum(2,8)"
   ]
  },
  {
   "cell_type": "code",
   "execution_count": 193,
   "metadata": {},
   "outputs": [
    {
     "data": {
      "text/plain": [
       "(2-1J)"
      ]
     },
     "execution_count": 193,
     "metadata": {},
     "output_type": "execute_result"
    }
   ],
   "source": [
    "a-b"
   ]
  },
  {
   "cell_type": "code",
   "execution_count": 194,
   "metadata": {},
   "outputs": [
    {
     "data": {
      "text/plain": [
       "(-48+46j)"
      ]
     },
     "execution_count": 194,
     "metadata": {},
     "output_type": "execute_result"
    }
   ],
   "source": [
    "(4+7J)*(2+8J)"
   ]
  },
  {
   "cell_type": "code",
   "execution_count": 195,
   "metadata": {},
   "outputs": [
    {
     "data": {
      "text/plain": [
       "(-524-7J)"
      ]
     },
     "execution_count": 195,
     "metadata": {},
     "output_type": "execute_result"
    }
   ],
   "source": [
    "a**3"
   ]
  },
  {
   "cell_type": "code",
   "execution_count": null,
   "metadata": {},
   "outputs": [],
   "source": []
  },
  {
   "cell_type": "code",
   "execution_count": 181,
   "metadata": {},
   "outputs": [
    {
     "data": {
      "text/plain": [
       "(-524-7j)"
      ]
     },
     "execution_count": 181,
     "metadata": {},
     "output_type": "execute_result"
    }
   ],
   "source": [
    "(4+7J)**3"
   ]
  },
  {
   "cell_type": "code",
   "execution_count": 183,
   "metadata": {},
   "outputs": [
    {
     "ename": "SyntaxError",
     "evalue": "invalid syntax (<ipython-input-183-0efe748d5ef9>, line 1)",
     "output_type": "error",
     "traceback": [
      "\u001b[1;36m  File \u001b[1;32m\"<ipython-input-183-0efe748d5ef9>\"\u001b[1;36m, line \u001b[1;32m1\u001b[0m\n\u001b[1;33m    [for i in range(3)]\u001b[0m\n\u001b[1;37m       ^\u001b[0m\n\u001b[1;31mSyntaxError\u001b[0m\u001b[1;31m:\u001b[0m invalid syntax\n"
     ]
    }
   ],
   "source": [
    "[for i in range(3)]"
   ]
  },
  {
   "cell_type": "code",
   "execution_count": 206,
   "metadata": {},
   "outputs": [],
   "source": [
    "import random\n",
    "\n",
    "class Herbivore:\n",
    "    mutation_drift=1\n",
    "    fertility_rate=.25\n",
    "    max_age=4\n",
    "    \n",
    "    def __init__(self,survival_skill):\n",
    "        self.age=0\n",
    "        self.survival_skill=survival_skill\n",
    "    def _age(self):\n",
    "        self.age +=1\n",
    "    def breed(self):\n",
    "        drift = random.randint(-1*self.mutation_drift,self.mutation_drift)\n",
    "        mutation = self.survival_skill+drift\n",
    "        return self.__class__(survival_skill=mutation)"
   ]
  },
  {
   "cell_type": "code",
   "execution_count": 232,
   "metadata": {},
   "outputs": [],
   "source": [
    "from statistics import mean\n",
    "class Island:\n",
    "    stats = dict()\n",
    "    animals = list()\n",
    "    \n",
    "    max_pop,year=0,0\n",
    "    \n",
    "    def __init__(self,initial_pop=10,max_pop=2500):\n",
    "        self.year=0\n",
    "        self.max_pop = max_pop\n",
    "        self.stat=dict()\n",
    "        self.animals = [Herbivore(random.randint(0,100)) for i in range(initial_pop)]\n",
    "    def _simulate(self):\n",
    "        new_animals = list()\n",
    "        pop = len(self.animals)\n",
    "        random.shuffle(self.animals)\n",
    "        for animal in self.animals:\n",
    "            if pop<=self.max_pop:\n",
    "                if random.random()<=animal.fertility_rate:\n",
    "                    new_animals.append(animal.breed())\n",
    "                    pop+=1\n",
    "            animal._age()\n",
    "            if animal.age<=animal.max_age:\n",
    "                new_animals.append(animal)\n",
    "        self.animals = new_animals\n",
    "                                \n",
    "    def _collect_stats(self):\n",
    "        year_stats = {'pop': len(self.animals)}\n",
    "        if len(self.animals)> 0: \n",
    "            ages, skills, ss_75 = zip(*[(a.age, a.survival_skill, (a.survival_skill>75))\n",
    "                                        for a in self.animals]) \n",
    "            year_stats['mean_age'] = mean(ages)\n",
    "            year_stats['mean_skill'] = mean(skills)\n",
    "            year_stats['75_skill'] = sum(ss_75) / year_stats['pop']\n",
    "            self.stats[self.year] = year_stats\n",
    "    def compute_epoches(self,years):\n",
    "        for _ in range(years):\n",
    "            self._simulate()\n",
    "            self._collect_stats()\n",
    "            "
   ]
  },
  {
   "cell_type": "code",
   "execution_count": 238,
   "metadata": {},
   "outputs": [
    {
     "data": {
      "text/plain": [
       "<__main__.Island at 0x267d89b6630>"
      ]
     },
     "execution_count": 238,
     "metadata": {},
     "output_type": "execute_result"
    }
   ],
   "source": [
    "params = {'initial_pop':10, 'max_pop':100}\n",
    "years, N_islands = 15, 1000 \n",
    "islands = [Island(**params) for _ in range(N_islands)]\n",
    "stats = [island.compute_epoches(years) for island in islands]\n",
    "islands"
   ]
  },
  {
   "cell_type": "code",
   "execution_count": 32,
   "metadata": {},
   "outputs": [
    {
     "data": {
      "text/plain": [
       "-2.2582588834026085"
      ]
     },
     "execution_count": 32,
     "metadata": {},
     "output_type": "execute_result"
    }
   ],
   "source": [
    "def bisection(f,a,b,N):\n",
    "    '''Approximate solution of f(x)=0 on interval [a,b] by bisection method.\n",
    "\n",
    "    Parameters\n",
    "    ----------\n",
    "    f : function\n",
    "        The function for which we are trying to approximate a solution f(x)=0.\n",
    "    a,b : numbers\n",
    "        The interval in which to search for a solution. The function returns\n",
    "        None if f(a)*f(b) >= 0 since a solution is not guaranteed.\n",
    "    N : (positive) integer\n",
    "        The number of iterations to implement.\n",
    "\n",
    "    Returns\n",
    "    -------\n",
    "    x_N : number\n",
    "        The midpoint of the Nth interval computed by the bisection method. The\n",
    "        initial interval [a_0,b_0] is given by [a,b]. If f(m_n) == 0 for some\n",
    "        midpoint m_n = (a_n + b_n)/2, then the function returns this solution.\n",
    "        If all signs of values f(a_n), f(b_n) and f(m_n) are the same at any\n",
    "        iteration, the bisection method fails and return None.\n",
    "\n",
    "    Examples\n",
    "    --------\n",
    "    >>> f = lambda x: x**2 - x - 1\n",
    "    >>> bisection(f,1,2,25)\n",
    "    1.618033990263939\n",
    "    >>> f = lambda x: (2*x - 1)*(x - 3)\n",
    "    >>> bisection(f,0,1,10)\n",
    "    0.5\n",
    "    '''\n",
    "    if f(a)*f(b) >= 0:\n",
    "        print(\"Bisection method fails.\")\n",
    "        return None\n",
    "    a_n = a\n",
    "    b_n = b\n",
    "    for n in range(1,N+1):\n",
    "        m_n = (a_n + b_n)/2\n",
    "        f_m_n = f(m_n)\n",
    "        if f(a_n)*f_m_n < 0:\n",
    "            a_n = a_n\n",
    "            b_n = m_n\n",
    "        elif f(b_n)*f_m_n < 0:\n",
    "            a_n = m_n\n",
    "            b_n = b_n\n",
    "        elif f_m_n == 0:\n",
    "            print(\"Found exact solution.\"+str(n)) \n",
    "            return m_n\n",
    "        else:\n",
    "            print(\"Bisection method fails.\")\n",
    "            return None\n",
    "    return (a_n + b_n)/2\n",
    "a= lambda x:x**3+4*x**2-3\n",
    "bisection(f,-3,0,500)"
   ]
  },
  {
   "cell_type": "code",
   "execution_count": 34,
   "metadata": {},
   "outputs": [
    {
     "name": "stdout",
     "output_type": "stream",
     "text": [
      "secant method fails.!\n"
     ]
    }
   ],
   "source": [
    "def secant(f,a,b,N=1000):\n",
    "    if f(a)*f(b) >= 0:\n",
    "        print(\"secant method fails.!\")\n",
    "        return None\n",
    "    a_n,b_n = a,b\n",
    "    for n in range (1,N+1):\n",
    "        m_n = a_n -f(a_n)*f(b_n-a_n)/(f(b_n)-f(a_n))\n",
    "        f_m_n = f(m_n)\n",
    "        if f(a_n)*f_m_n < 0:\n",
    "            a_n = a_n\n",
    "            b_n = m_n\n",
    "        elif f(b_n)*f_m_n < 0:\n",
    "            a_n = m_n\n",
    "            b_n = b_n\n",
    "        elif f_m_n == 0:\n",
    "            print(\"Found exact solution.\"+str(n))\n",
    "            return m_n\n",
    "        else:\n",
    "            print(\"secant method fails.\")\n",
    "            return None\n",
    "    return a_n -f(a_n)*f(b_n-a_n)/(f(b_n)-f(a_n)), n\n",
    "def f(x):\n",
    "    return (x**3-2*x+7)/(x**4+2)\n",
    "secant(a,-3,-1,100000)\n",
    "        "
   ]
  },
  {
   "cell_type": "code",
   "execution_count": null,
   "metadata": {},
   "outputs": [],
   "source": []
  }
 ],
 "metadata": {
  "kernelspec": {
   "display_name": "Python 3",
   "language": "python",
   "name": "python3"
  },
  "language_info": {
   "codemirror_mode": {
    "name": "ipython",
    "version": 3
   },
   "file_extension": ".py",
   "mimetype": "text/x-python",
   "name": "python",
   "nbconvert_exporter": "python",
   "pygments_lexer": "ipython3",
   "version": "3.7.3"
  }
 },
 "nbformat": 4,
 "nbformat_minor": 2
}
