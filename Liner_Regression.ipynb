{
 "cells": [
  {
   "cell_type": "code",
   "execution_count": 1,
   "metadata": {},
   "outputs": [],
   "source": [
    "import tensorflow as tf"
   ]
  },
  {
   "cell_type": "code",
   "execution_count": 2,
   "metadata": {},
   "outputs": [],
   "source": [
    "x_train = [10,9,3,2]\n",
    "y_train = [90,80,50,30]"
   ]
  },
  {
   "cell_type": "code",
   "execution_count": 3,
   "metadata": {},
   "outputs": [
    {
     "name": "stdout",
     "output_type": "stream",
     "text": [
      "WARNING:tensorflow:From C:\\Users\\wow\\Anaconda3\\lib\\site-packages\\tensorflow\\python\\framework\\op_def_library.py:263: colocate_with (from tensorflow.python.framework.ops) is deprecated and will be removed in a future version.\n",
      "Instructions for updating:\n",
      "Colocations handled automatically by placer.\n"
     ]
    }
   ],
   "source": [
    "# y= ax+b -> a= W:weight / b(bias)\n",
    "W = tf.Variable(tf.random_normal([1]), name = 'weight')\n",
    "b = tf.Variable(tf.random_normal([1]), name = 'bias')"
   ]
  },
  {
   "cell_type": "code",
   "execution_count": 4,
   "metadata": {},
   "outputs": [],
   "source": [
    "hypothesis = W*x_train+b"
   ]
  },
  {
   "cell_type": "code",
   "execution_count": 5,
   "metadata": {},
   "outputs": [],
   "source": [
    "#에러\n",
    "cost = tf.reduce_mean(tf.square(hypothesis - y_train))"
   ]
  },
  {
   "cell_type": "code",
   "execution_count": 6,
   "metadata": {},
   "outputs": [],
   "source": [
    "optimizer = tf.train.GradientDescentOptimizer(learning_rate=0.01)"
   ]
  },
  {
   "cell_type": "raw",
   "metadata": {},
   "source": []
  },
  {
   "cell_type": "code",
   "execution_count": 7,
   "metadata": {},
   "outputs": [],
   "source": [
    "train = optimizer.minimize(cost)"
   ]
  },
  {
   "cell_type": "code",
   "execution_count": 8,
   "metadata": {},
   "outputs": [],
   "source": [
    "sess = tf.Session()\n",
    "sess.run(tf.global_variables_initializer())"
   ]
  },
  {
   "cell_type": "code",
   "execution_count": 9,
   "metadata": {},
   "outputs": [
    {
     "name": "stdout",
     "output_type": "stream",
     "text": [
      "0 151.34177 [9.225871] [0.7493253]\n",
      "500 25.028088 [6.8160734] [21.162548]\n",
      "1000 24.25479 [6.6169605] [22.763624]\n",
      "1500 24.250025 [6.6013317] [22.889294]\n",
      "2000 24.250004 [6.600106] [22.899149]\n",
      "2500 24.249998 [6.600023] [22.899818]\n",
      "3000 24.249998 [6.600023] [22.899818]\n",
      "3500 24.249998 [6.600023] [22.899818]\n",
      "4000 24.249998 [6.600023] [22.899818]\n",
      "4500 24.249998 [6.600023] [22.899818]\n",
      "5000 24.249998 [6.600023] [22.899818]\n",
      "5500 24.249998 [6.600023] [22.899818]\n",
      "6000 24.249998 [6.600023] [22.899818]\n",
      "6500 24.249998 [6.600023] [22.899818]\n",
      "7000 24.249998 [6.600023] [22.899818]\n",
      "7500 24.249998 [6.600023] [22.899818]\n",
      "8000 24.249998 [6.600023] [22.899818]\n",
      "8500 24.249998 [6.600023] [22.899818]\n",
      "9000 24.249998 [6.600023] [22.899818]\n",
      "9500 24.249998 [6.600023] [22.899818]\n",
      "10000 24.249998 [6.600023] [22.899818]\n"
     ]
    }
   ],
   "source": [
    "for step in range(10001):\n",
    "    sess.run(train)\n",
    "    if step % 500 == 0:\n",
    "        print(step, sess.run(cost), sess.run(W), sess.run(b))"
   ]
  },
  {
   "cell_type": "code",
   "execution_count": null,
   "metadata": {},
   "outputs": [],
   "source": []
  }
 ],
 "metadata": {
  "kernelspec": {
   "display_name": "Python 3",
   "language": "python",
   "name": "python3"
  },
  "language_info": {
   "codemirror_mode": {
    "name": "ipython",
    "version": 3
   },
   "file_extension": ".py",
   "mimetype": "text/x-python",
   "name": "python",
   "nbconvert_exporter": "python",
   "pygments_lexer": "ipython3",
   "version": "3.7.3"
  }
 },
 "nbformat": 4,
 "nbformat_minor": 2
}
